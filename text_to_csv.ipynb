{
 "cells": [
  {
   "cell_type": "code",
   "execution_count": 77,
   "metadata": {},
   "outputs": [
    {
     "name": "stdout",
     "output_type": "stream",
     "text": [
      "Input Date: 170107\n"
     ]
    }
   ],
   "source": [
    "import urllib.request\n",
    "import csv\n",
    "\n",
    "date = input('Input Date: ')\n",
    "outfilename = date + '.txt'\n",
    "csvfile = date + '.csv'\n",
    "url_of_file = 'http://web.mta.info/developers/data/nyct/turnstile/turnstile_' + date + '.txt'\n",
    "urllib.request.urlretrieve(url_of_file, outfilename) \n",
    "\n",
    "with open(outfilename, encoding='utf-8') as infile, open(csvfile, 'w', newline='') as outfile:\n",
    "        in_txt = csv.reader(infile, delimiter = ',')\n",
    "        out_csv = csv.writer(outfile)\n",
    "        i = 0\n",
    "        for row in in_txt:\n",
    "            i +=1\n",
    "            out_csv.writerow(row)"
   ]
  },
  {
   "cell_type": "code",
   "execution_count": null,
   "metadata": {
    "collapsed": true
   },
   "outputs": [],
   "source": []
  }
 ],
 "metadata": {
  "kernelspec": {
   "display_name": "Python 3",
   "language": "python",
   "name": "python3"
  },
  "language_info": {
   "codemirror_mode": {
    "name": "ipython",
    "version": 3
   },
   "file_extension": ".py",
   "mimetype": "text/x-python",
   "name": "python",
   "nbconvert_exporter": "python",
   "pygments_lexer": "ipython3",
   "version": "3.6.1"
  }
 },
 "nbformat": 4,
 "nbformat_minor": 2
}
