{
 "cells": [
  {
   "cell_type": "code",
   "execution_count": 9,
   "metadata": {},
   "outputs": [
    {
     "name": "stdout",
     "output_type": "stream",
     "text": [
      "['59 ST' '5 AV/59 ST' '57 ST-7 AV' '49 ST' 'TIMES SQ-42 ST'\n",
      " '34 ST-HERALD SQ' '28 ST' '23 ST' '14 ST-UNION SQ' '8 ST-NYU' 'PRINCE ST'\n",
      " 'CANAL ST' 'CITY HALL' 'CORTLANDT ST' 'RECTOR ST' 'CHAMBERS ST'\n",
      " 'FULTON ST' '7 AV' 'BOTANIC GARDEN' 'PROSPECT PARK' 'PARKSIDE AV'\n",
      " 'CHURCH AV' 'BEVERLEY ROAD' 'CORTELYOU RD' 'NEWKIRK PLAZA' 'AVENUE H'\n",
      " 'AVENUE J' 'AVENUE M' 'KINGS HWY' 'AVENUE U' 'NECK RD' 'SHEEPSHEAD BAY'\n",
      " 'BRIGHTON BEACH' 'OCEAN PKWY' 'BOROUGH HALL' 'DEKALB AV' 'ATL AV-BARCLAY'\n",
      " '4AV-9 ST' '36 ST' '8 AV' 'FT HAMILTON PKY' 'NEW UTRECHT AV' '18 AV'\n",
      " '20 AV' 'BAY PKWY' '86 ST' 'CONEY IS-STILLW' 'W 8 ST-AQUARIUM'\n",
      " '42 ST-PORT AUTH' '161/YANKEE STAD' 'LEXINGTON AV/53' \"B'WAY-LAFAYETTE\"\n",
      " '4 AV-9 ST' '72 ST-2 AVE' '86 ST-2 AVE' '96 ST-2 AVE' 'BOWLING GREEN'\n",
      " 'WALL ST' 'BROOKLYN BRIDGE' 'SPRING ST' 'BLEECKER ST' 'ASTOR PL' '33 ST'\n",
      " 'GRD CNTRL-42 ST' '51 ST' '68ST-HUNTER CO' '77 ST' '96 ST' '103 ST'\n",
      " '110 ST' '116 ST' '125 ST' '138/GRAND CONC' '149/GRAND CONC' '167 ST'\n",
      " '170 ST' 'MT EDEN AV' '176 ST' 'BURNSIDE AV' '183 ST' 'FORDHAM RD'\n",
      " 'KINGSBRIDGE RD' 'BEDFORD PK BLVD' 'MOSHOLU PKWY' 'WOODLAWN' '3 AV-149 ST'\n",
      " 'JACKSON AV' 'PROSPECT AV' 'INTERVALE AV' 'SIMPSON ST' 'FREEMAN ST'\n",
      " '174 ST' 'WEST FARMS SQ' 'E 180 ST' 'BRONX PARK EAST' 'PELHAM PKWY'\n",
      " 'ALLERTON AV' 'BURKE AV' 'GUN HILL RD' '219 ST' '225 ST' '233 ST'\n",
      " 'NEREID AV' '3 AV 138 ST' 'BROOK AV' 'CYPRESS AV' \"E 143/ST MARY'S\"\n",
      " 'E 149 ST' 'LONGWOOD AV' 'HUNTS POINT AV' 'WHITLOCK AV' 'ELDER AV'\n",
      " 'MORISN AV/SNDVW' 'ST LAWRENCE AV' 'PARKCHESTER' 'CASTLE HILL AV'\n",
      " 'ZEREGA AV' 'WESTCHESTER SQ' 'MIDDLETOWN RD' 'BUHRE AV' 'PELHAM BAY PARK'\n",
      " 'QUEENSBORO PLZ' '39 AV' 'BROADWAY' 'ASTORIA BLVD' 'ASTORIA DITMARS'\n",
      " 'NEVINS ST' 'FRANKLIN AV' 'CROWN HTS-UTICA' 'PRESIDENT ST' 'STERLING ST'\n",
      " 'WINTHROP ST' 'BEVERLY RD' 'NEWKIRK AV' 'FLATBUSH AV-B.C' 'MORRIS PARK'\n",
      " 'BAYCHESTER AV' 'EASTCHSTER/DYRE']\n"
     ]
    }
   ],
   "source": [
    "import requests\n",
    "import pandas as pd\n",
    "import numpy as np\n",
    "import os.path\n",
    "\n",
    "#date to get station list\n",
    "date = '180331'\n",
    "\n",
    "#create url based on user input\n",
    "url = 'http://web.mta.info/developers/data/nyct/turnstile/turnstile_' + date + '.txt'\n",
    "\n",
    "# read the .txt file from MTA into a dataframe\n",
    "data = pd.read_csv(url)\n",
    "\n",
    "data = data[data['LINENAME'].str.contains(\"(?x) N | Q | 4 | 5 | 6\")]\n",
    "\n",
    "stations = data.STATION.unique()\n",
    "\n",
    "print(stations)"
   ]
  },
  {
   "cell_type": "code",
   "execution_count": null,
   "metadata": {
    "collapsed": true
   },
   "outputs": [],
   "source": []
  }
 ],
 "metadata": {
  "kernelspec": {
   "display_name": "Python 3",
   "language": "python",
   "name": "python3"
  },
  "language_info": {
   "codemirror_mode": {
    "name": "ipython",
    "version": 3
   },
   "file_extension": ".py",
   "mimetype": "text/x-python",
   "name": "python",
   "nbconvert_exporter": "python",
   "pygments_lexer": "ipython3",
   "version": "3.6.1"
  }
 },
 "nbformat": 4,
 "nbformat_minor": 2
}
